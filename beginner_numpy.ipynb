{
 "cells": [
  {
   "cell_type": "code",
   "execution_count": 30,
   "metadata": {},
   "outputs": [],
   "source": [
    "import numpy as np\n"
   ]
  },
  {
   "cell_type": "code",
   "execution_count": 31,
   "metadata": {},
   "outputs": [
    {
     "name": "stdout",
     "output_type": "stream",
     "text": [
      "[10 20 30 40 50]\n",
      "1\n",
      "(5,)\n"
     ]
    },
    {
     "data": {
      "text/plain": [
       "5"
      ]
     },
     "execution_count": 31,
     "metadata": {},
     "output_type": "execute_result"
    }
   ],
   "source": [
    "arr = np.array([10,20,30,40,50])\n",
    "print(arr)\n",
    "print(arr.ndim)\n",
    "print(arr.shape)\n",
    "len(arr)\n"
   ]
  },
  {
   "cell_type": "code",
   "execution_count": 32,
   "metadata": {},
   "outputs": [
    {
     "name": "stdout",
     "output_type": "stream",
     "text": [
      "[[ 10  20  30  40  50]\n",
      " [100 200 300 400 500]]\n",
      "2\n",
      "(2, 5)\n",
      "2\n",
      "10\n"
     ]
    },
    {
     "data": {
      "text/plain": [
       "dtype('int64')"
      ]
     },
     "execution_count": 32,
     "metadata": {},
     "output_type": "execute_result"
    }
   ],
   "source": [
    "arr_2d = np.array([\n",
    "    [10, 20, 30, 40, 50],\n",
    "    [100, 200, 300, 400, 500]\n",
    "])\n",
    "print(arr_2d)\n",
    "print(arr_2d.ndim)\n",
    "print(arr_2d.shape)\n",
    "print(len(arr_2d))\n",
    "print(arr_2d.size)\n",
    "type(arr_2d)\n",
    "arr_2d.dtype\n"
   ]
  },
  {
   "cell_type": "code",
   "execution_count": 33,
   "metadata": {},
   "outputs": [
    {
     "data": {
      "text/plain": [
       "array([0, 1, 2, 3])"
      ]
     },
     "execution_count": 33,
     "metadata": {},
     "output_type": "execute_result"
    }
   ],
   "source": [
    "np.full(shape = (3,5), fill_value = 'cat')\n",
    "np.arange(start=1, stop=5, step=1)\n",
    "np.arange(4)\n"
   ]
  },
  {
   "cell_type": "code",
   "execution_count": 34,
   "metadata": {},
   "outputs": [
    {
     "name": "stdout",
     "output_type": "stream",
     "text": [
      "50\n"
     ]
    }
   ],
   "source": [
    "foo = np.array([10, 20, 30, 40, 50])\n",
    "foo[0]  # 10, 1st element\n",
    "foo[1]  # 20, 2nd element\n",
    "foo[1] = 99\n",
    "print(foo[-1])\n"
   ]
  },
  {
   "cell_type": "code",
   "execution_count": 35,
   "metadata": {},
   "outputs": [],
   "source": [
    "bar = np.array([\n",
    "    [5, 10, 15, 20],\n",
    "    [25, 30, 35, 40],\n",
    "    [45, 50, 55, 60]\n",
    "])"
   ]
  },
  {
   "cell_type": "code",
   "execution_count": 36,
   "metadata": {},
   "outputs": [],
   "source": [
    "zoo = np.array([\n",
    "    [\n",
    "        [10,20],\n",
    "        [30,40],\n",
    "        [50,60],\n",
    "    ],\n",
    "    [\n",
    "        [11,12],\n",
    "        [13,14],\n",
    "        [15,16],\n",
    "    ]\n",
    "])\n"
   ]
  },
  {
   "cell_type": "code",
   "execution_count": 37,
   "metadata": {},
   "outputs": [],
   "source": [
    "foo = np.array([[4,3], [1,0]])\n",
    "bar = np.array([[1,2], [3,4]])"
   ]
  },
  {
   "cell_type": "code",
   "execution_count": 38,
   "metadata": {},
   "outputs": [
    {
     "data": {
      "text/plain": [
       "array([[4.        , 1.5       ],\n",
       "       [0.33333333, 0.        ]])"
      ]
     },
     "execution_count": 38,
     "metadata": {},
     "output_type": "execute_result"
    }
   ],
   "source": [
    "foo + bar\n",
    "foo-bar \n",
    "foo * bar\n",
    "foo / bar\n"
   ]
  },
  {
   "cell_type": "code",
   "execution_count": 39,
   "metadata": {},
   "outputs": [
    {
     "data": {
      "text/plain": [
       "array([[9, 8],\n",
       "       [6, 5]])"
      ]
     },
     "execution_count": 39,
     "metadata": {},
     "output_type": "execute_result"
    }
   ],
   "source": [
    "foo @ bar\n",
    "foo + 5\n"
   ]
  },
  {
   "cell_type": "code",
   "execution_count": 40,
   "metadata": {},
   "outputs": [
    {
     "name": "stdout",
     "output_type": "stream",
     "text": [
      "[183.9 182.5 181.1 179.7 178.3]\n"
     ]
    }
   ],
   "source": [
    "\n",
    "dailywts = 185 - np.arange(5*7)/5\n",
    "sat = dailywts[5::7]\n",
    "sun = dailywts[6::7]\n",
    "sum = sat + sun\n",
    "avg = sum/2\n",
    "print(avg)"
   ]
  },
  {
   "cell_type": "code",
   "execution_count": 45,
   "metadata": {},
   "outputs": [
    {
     "ename": "ValueError",
     "evalue": "cannot reshape array of size 31 into shape (4,newaxis)",
     "output_type": "error",
     "traceback": [
      "\u001b[0;31m---------------------------------------------------------------------------\u001b[0m",
      "\u001b[0;31mValueError\u001b[0m                                Traceback (most recent call last)",
      "Cell \u001b[0;32mIn[45], line 3\u001b[0m\n\u001b[1;32m      1\u001b[0m \u001b[38;5;66;03m#NOLA Problem\u001b[39;00m\n\u001b[0;32m----> 3\u001b[0m nola \u001b[38;5;241m=\u001b[39m \u001b[43mnp\u001b[49m\u001b[38;5;241;43m.\u001b[39;49m\u001b[43marange\u001b[49m\u001b[43m(\u001b[49m\u001b[43mstart\u001b[49m\u001b[38;5;241;43m=\u001b[39;49m\u001b[38;5;241;43m1\u001b[39;49m\u001b[43m,\u001b[49m\u001b[43m \u001b[49m\u001b[43mstop\u001b[49m\u001b[38;5;241;43m=\u001b[39;49m\u001b[38;5;241;43m62\u001b[39;49m\u001b[43m,\u001b[49m\u001b[43m \u001b[49m\u001b[43mstep\u001b[49m\u001b[38;5;241;43m=\u001b[39;49m\u001b[38;5;241;43m2\u001b[39;49m\u001b[43m)\u001b[49m\u001b[38;5;241;43m.\u001b[39;49m\u001b[43mreshape\u001b[49m\u001b[43m(\u001b[49m\u001b[38;5;241;43m4\u001b[39;49m\u001b[43m,\u001b[49m\u001b[38;5;241;43m-\u001b[39;49m\u001b[38;5;241;43m1\u001b[39;49m\u001b[43m)\u001b[49m\n\u001b[1;32m      4\u001b[0m nola \u001b[38;5;241m=\u001b[39m nola[:, :\u001b[38;5;241m-\u001b[39m\u001b[38;5;241m1\u001b[39m]\n\u001b[1;32m      5\u001b[0m \u001b[38;5;28mprint\u001b[39m(nola)\n",
      "\u001b[0;31mValueError\u001b[0m: cannot reshape array of size 31 into shape (4,newaxis)"
     ]
    }
   ],
   "source": [
    "#NOLA Problem\n",
    "\n",
    "nola = np.arange(start=1, stop=65, step=2).reshape(4,-1)nola = nola[:, :-1]\n",
    "print(nola)\n"
   ]
  }
 ],
 "metadata": {
  "kernelspec": {
   "display_name": "pracprob",
   "language": "python",
   "name": "python3"
  },
  "language_info": {
   "codemirror_mode": {
    "name": "ipython",
    "version": 3
   },
   "file_extension": ".py",
   "mimetype": "text/x-python",
   "name": "python",
   "nbconvert_exporter": "python",
   "pygments_lexer": "ipython3",
   "version": "3.9.19"
  }
 },
 "nbformat": 4,
 "nbformat_minor": 2
}
